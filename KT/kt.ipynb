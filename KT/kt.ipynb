{
 "cells": [
  {
   "cell_type": "code",
   "execution_count": 106,
   "metadata": {},
   "outputs": [],
   "source": [
    "import numpy as np\n",
    "import pandas as pd\n",
    "from IPython.display import Image"
   ]
  },
  {
   "cell_type": "markdown",
   "metadata": {},
   "source": [
    "### 1\n",
    "Найти xy координаты монохроматического цвета 555 nm (отражающая способность 1.0)  \n",
    "Источник освещения D65  \n",
    "Модель наблюдателя соответствует CIE 1931 (2 градуса)  "
   ]
  },
  {
   "cell_type": "code",
   "execution_count": 107,
   "metadata": {},
   "outputs": [
    {
     "data": {
      "text/html": [
       "<div>\n",
       "<style scoped>\n",
       "    .dataframe tbody tr th:only-of-type {\n",
       "        vertical-align: middle;\n",
       "    }\n",
       "\n",
       "    .dataframe tbody tr th {\n",
       "        vertical-align: top;\n",
       "    }\n",
       "\n",
       "    .dataframe thead th {\n",
       "        text-align: right;\n",
       "    }\n",
       "</style>\n",
       "<table border=\"1\" class=\"dataframe\">\n",
       "  <thead>\n",
       "    <tr style=\"text-align: right;\">\n",
       "      <th></th>\n",
       "      <th>wave</th>\n",
       "      <th>x</th>\n",
       "      <th>y</th>\n",
       "      <th>z</th>\n",
       "    </tr>\n",
       "  </thead>\n",
       "  <tbody>\n",
       "    <tr>\n",
       "      <th>0</th>\n",
       "      <td>360</td>\n",
       "      <td>0.175560</td>\n",
       "      <td>0.005294</td>\n",
       "      <td>0.819146</td>\n",
       "    </tr>\n",
       "    <tr>\n",
       "      <th>1</th>\n",
       "      <td>365</td>\n",
       "      <td>0.175161</td>\n",
       "      <td>0.005256</td>\n",
       "      <td>0.819582</td>\n",
       "    </tr>\n",
       "    <tr>\n",
       "      <th>2</th>\n",
       "      <td>370</td>\n",
       "      <td>0.174821</td>\n",
       "      <td>0.005221</td>\n",
       "      <td>0.819959</td>\n",
       "    </tr>\n",
       "    <tr>\n",
       "      <th>3</th>\n",
       "      <td>375</td>\n",
       "      <td>0.174510</td>\n",
       "      <td>0.005182</td>\n",
       "      <td>0.820309</td>\n",
       "    </tr>\n",
       "    <tr>\n",
       "      <th>4</th>\n",
       "      <td>380</td>\n",
       "      <td>0.174112</td>\n",
       "      <td>0.004964</td>\n",
       "      <td>0.820924</td>\n",
       "    </tr>\n",
       "    <tr>\n",
       "      <th>...</th>\n",
       "      <td>...</td>\n",
       "      <td>...</td>\n",
       "      <td>...</td>\n",
       "      <td>...</td>\n",
       "    </tr>\n",
       "    <tr>\n",
       "      <th>90</th>\n",
       "      <td>810</td>\n",
       "      <td>0.734690</td>\n",
       "      <td>0.265310</td>\n",
       "      <td>0.000000</td>\n",
       "    </tr>\n",
       "    <tr>\n",
       "      <th>91</th>\n",
       "      <td>815</td>\n",
       "      <td>0.734690</td>\n",
       "      <td>0.265310</td>\n",
       "      <td>0.000000</td>\n",
       "    </tr>\n",
       "    <tr>\n",
       "      <th>92</th>\n",
       "      <td>820</td>\n",
       "      <td>0.734690</td>\n",
       "      <td>0.265310</td>\n",
       "      <td>0.000000</td>\n",
       "    </tr>\n",
       "    <tr>\n",
       "      <th>93</th>\n",
       "      <td>825</td>\n",
       "      <td>0.734690</td>\n",
       "      <td>0.265310</td>\n",
       "      <td>0.000000</td>\n",
       "    </tr>\n",
       "    <tr>\n",
       "      <th>94</th>\n",
       "      <td>830</td>\n",
       "      <td>0.734690</td>\n",
       "      <td>0.265310</td>\n",
       "      <td>0.000000</td>\n",
       "    </tr>\n",
       "  </tbody>\n",
       "</table>\n",
       "<p>95 rows × 4 columns</p>\n",
       "</div>"
      ],
      "text/plain": [
       "    wave         x         y         z\n",
       "0    360  0.175560  0.005294  0.819146\n",
       "1    365  0.175161  0.005256  0.819582\n",
       "2    370  0.174821  0.005221  0.819959\n",
       "3    375  0.174510  0.005182  0.820309\n",
       "4    380  0.174112  0.004964  0.820924\n",
       "..   ...       ...       ...       ...\n",
       "90   810  0.734690  0.265310  0.000000\n",
       "91   815  0.734690  0.265310  0.000000\n",
       "92   820  0.734690  0.265310  0.000000\n",
       "93   825  0.734690  0.265310  0.000000\n",
       "94   830  0.734690  0.265310  0.000000\n",
       "\n",
       "[95 rows x 4 columns]"
      ]
     },
     "execution_count": 107,
     "metadata": {},
     "output_type": "execute_result"
    }
   ],
   "source": [
    "cie = pd.read_csv(\"cccie31.csv\")\n",
    "cie\n"
   ]
  },
  {
   "cell_type": "code",
   "execution_count": 108,
   "metadata": {},
   "outputs": [
    {
     "data": {
      "text/html": [
       "<div>\n",
       "<style scoped>\n",
       "    .dataframe tbody tr th:only-of-type {\n",
       "        vertical-align: middle;\n",
       "    }\n",
       "\n",
       "    .dataframe tbody tr th {\n",
       "        vertical-align: top;\n",
       "    }\n",
       "\n",
       "    .dataframe thead th {\n",
       "        text-align: right;\n",
       "    }\n",
       "</style>\n",
       "<table border=\"1\" class=\"dataframe\">\n",
       "  <thead>\n",
       "    <tr style=\"text-align: right;\">\n",
       "      <th></th>\n",
       "      <th>wave</th>\n",
       "      <th>x</th>\n",
       "      <th>y</th>\n",
       "      <th>z</th>\n",
       "    </tr>\n",
       "  </thead>\n",
       "  <tbody>\n",
       "    <tr>\n",
       "      <th>39</th>\n",
       "      <td>555</td>\n",
       "      <td>0.337363</td>\n",
       "      <td>0.658848</td>\n",
       "      <td>0.003788</td>\n",
       "    </tr>\n",
       "  </tbody>\n",
       "</table>\n",
       "</div>"
      ],
      "text/plain": [
       "    wave         x         y         z\n",
       "39   555  0.337363  0.658848  0.003788"
      ]
     },
     "execution_count": 108,
     "metadata": {},
     "output_type": "execute_result"
    }
   ],
   "source": [
    "cie[cie.wave==555]"
   ]
  },
  {
   "cell_type": "markdown",
   "metadata": {},
   "source": [
    "----------------------------"
   ]
  },
  {
   "cell_type": "markdown",
   "metadata": {},
   "source": [
    "### 2\n",
    "Даны координаты в системе sRGB(0,75 0,5 0,25) (Гамма=2,2 ; источник освещения D65)  \n",
    "Найти XYZ координаты  \n",
    "Найти XYZ координаты при изменении D65 на D50 по методу Бредфорда (Bradford)  "
   ]
  },
  {
   "cell_type": "code",
   "execution_count": 109,
   "metadata": {},
   "outputs": [
    {
     "name": "stdout",
     "output_type": "stream",
     "text": [
      "sRGBtoXYZ=array([[0.41245644, 0.35757608, 0.18043748],\n",
      "       [0.21267285, 0.71515216, 0.07217499],\n",
      "       [0.0193339 , 0.11919203, 0.95030408]])\n",
      "sRGB=array([0.75, 0.5 , 0.25])\n",
      "sRGB_lin=array([0.53795949, 0.22619362, 0.05307029])\n",
      "\n",
      "XYZ: [0.31234215 0.28000258 0.08779424]\n"
     ]
    }
   ],
   "source": [
    "def getSRGBtoXYZ(xyYR, xyYG, xyYB, xyzW):\n",
    "    def XYZ(xyY):\n",
    "        return (xyY[0]/xyY[1], 1, (1 - xyY[0] - xyY[1]) / xyY[1])\n",
    "\n",
    "    M = np.array([XYZ(xyYR), XYZ(xyYG), XYZ(xyYB)]).T\n",
    "    M_inv = np.linalg.inv(M)\n",
    "    S = M_inv.dot(xyzW)\n",
    "\n",
    "    return M*S\n",
    "\n",
    "linearazie = lambda v: v/12.92 if v <= 0.04045 else np.power(((v+0.018)/1.018), 2.2)\n",
    "\n",
    "sRGB = np.array([0.75, 0.5, 0.25])\n",
    "sRGB_lin = np.array(list(map(linearazie, sRGB)))\n",
    "\n",
    "\n",
    "sRGBtoXYZ = getSRGBtoXYZ(\n",
    "    [0.6400, 0.3300, 0.212656],\n",
    "    [0.3000, 0.6000, 0.715158],\n",
    "    [0.1500, 0.0600, 0.072186],\n",
    "    [0.95047, 1.00000, 1.08883]\n",
    ")\n",
    "\n",
    "\n",
    "print(f\"{sRGBtoXYZ=}\")\n",
    "print(f\"{sRGB=}\")\n",
    "print(f\"{sRGB_lin=}\\n\")\n",
    "\n",
    "print(\n",
    "    \"XYZ:\",\n",
    "    sRGBtoXYZ.dot(sRGB_lin)\n",
    ")"
   ]
  },
  {
   "cell_type": "code",
   "execution_count": 110,
   "metadata": {},
   "outputs": [
    {
     "name": "stdout",
     "output_type": "stream",
     "text": [
      "D65toD50=array([[ 1.04781124,  0.0228866 , -0.05012698],\n",
      "       [ 0.0295424 ,  0.9904844 , -0.0170491 ],\n",
      "       [-0.00923449,  0.01504362,  0.75213164]])\n",
      "\n",
      "XYZ D50: [0.32928307 0.28506872 0.06736076]\n"
     ]
    }
   ],
   "source": [
    "def getXYZtoXYZ(xyzWS, xyzWD):\n",
    "    M_A = np.array([\n",
    "        [ 0.8951000,   0.2664000,  -0.1614000],\n",
    "        [-0.7502000,  1.7135000,  0.0367000],\n",
    "        [ 0.0389000,  -0.0685000,   1.0296000]\n",
    "    ])\n",
    "\n",
    "    M_A_inv = np.linalg.inv(M_A)\n",
    "    s = M_A.dot(xyzWS)\n",
    "    d = M_A.dot(xyzWD)\n",
    "    diag = np.diag(d/s)\n",
    "\n",
    "    return M_A_inv.dot(diag).dot(M_A)\n",
    "\n",
    "D65toD50 = getXYZtoXYZ(\n",
    "    [0.95047, 1.00000, 1.08883],\n",
    "    [0.96422, 1.00000, 0.82521]\n",
    ")\n",
    "\n",
    "print(f\"{D65toD50=}\\n\")\n",
    "print(\n",
    "    \"XYZ D50:\",\n",
    "    D65toD50.dot(sRGBtoXYZ.dot(sRGB_lin))\n",
    ")\n"
   ]
  },
  {
   "cell_type": "markdown",
   "metadata": {},
   "source": [
    "-------------------------------"
   ]
  },
  {
   "cell_type": "markdown",
   "metadata": {},
   "source": [
    "### 3\n",
    "Гистограмма изображения задана линией y=х.  \n",
    "Постройте LUT для эквализации гистограммы.  \n",
    "Постройте LUT для инверсии изображения.  "
   ]
  },
  {
   "cell_type": "markdown",
   "metadata": {},
   "source": [
    "#### Эквализация\n",
    "<center>Функция распределения, где H(j) - начальная гистограмма</center>\n",
    "\n",
    "$$\n",
    "H'(x) = \\sum_{j=0}^{x-1}H(j)\n",
    "$$\n",
    "\n",
    "<center>Тогда формула пикселя эквализированного изображения:</center>\n",
    "\n",
    "$$\n",
    "equalized(x, y) = H'(I(x, y))\n",
    "$$\n",
    "\n",
    "#### Инверсия\n",
    "\n",
    "$$\n",
    "LUT[i] = 1 - i\n",
    "$$\n",
    "\n",
    "$$ i = y(x) = x $$\n",
    "\n",
    "$$ LUT[i] = 1 - x $$\n",
    "\n",
    "$$\n",
    "inversion(x,y) = 255 - I(x, y)\n",
    "$$\n",
    "\n",
    "------------------------------------"
   ]
  },
  {
   "cell_type": "markdown",
   "metadata": {},
   "source": [
    "### 4\n",
    "Какие из ранговых фильтров являются сепарабельными? Доказать.  "
   ]
  },
  {
   "cell_type": "markdown",
   "metadata": {},
   "source": [
    "<center>Сепарабельный фильтр - фильтр, который можно представить ввиде произведения двух векторов</center>\n",
    "\n",
    "$$ \\begin{pmatrix} a_1 \\\\ ... \\\\ a_n \\end{pmatrix} \\times \\begin{pmatrix} b_1 & ... & b_n \\end{pmatrix} =\n",
    "\\begin{pmatrix}\n",
    "    a_1 b_1 & \\dots  & a_1 b_n \\\\\n",
    "    \\vdots  & \\ddots & \\vdots  \\\\\n",
    "    a_n b_1 & \\dots  & a_n b_n \\\\\n",
    "\\end{pmatrix}\n",
    "$$\n",
    "\n",
    "Каждая строка является линейной комбинацией любой другой строки\n",
    "\n",
    "Каждый столбец является линейной комбинацией любого другого столбца\n",
    "\n",
    "Следовательно ранг матрицы, полученной путем произведения двух векторов равен 1\n",
    "\n",
    "Сепарабельными являются только одноранговые фильтры\n",
    "\n",
    "\n",
    "\n",
    "----------------------------------"
   ]
  },
  {
   "cell_type": "markdown",
   "metadata": {},
   "source": [
    "### 5\n",
    "Преобразуйте цепной код 1527650432 так, чтобы он стал инвариантным по отношению к\n",
    "выбору начальной точки и к повороту."
   ]
  },
  {
   "cell_type": "markdown",
   "metadata": {},
   "source": [
    "Исходный цепной код: `1527650432`\n",
    "\n",
    "Инвариантность к выбору начальной точки достигается путем сдвига последовательности таким образом, что полученное число -- наименьшее\n",
    "\n",
    "```\n",
    "-- 1527650432 -->\n",
    "-- 2152765043 -->\n",
    "-- 3215276504 -->\n",
    "-- 4321527650 -->\n",
    "-- 0432152765 -->\n",
    "```\n",
    "\n",
    "Код инвариантный к выбору начальной точки: `0432152765`\n",
    "\n",
    "Инвариантность к повороту достигается если рассматривать первую разность значений кода\n",
    "\n",
    "```\n",
    "0   4   3   2   1   5   2   7   6   5 [0]\n",
    " └4┘ └7┘ └7┘ └7┘ └4┘ └5┘ └5┘ └7┘ └7┘ └3┘\n",
    "```\n",
    "\n",
    "Код инвариантный к повороту: `4777455773`\n",
    "\n",
    "----------------------------------------"
   ]
  },
  {
   "cell_type": "markdown",
   "metadata": {},
   "source": [
    "### 6\n",
    "Дано бинарное изображение равностороннего треугольника со стороной 6  \n",
    "Как будет выглядеть эрозия и дилатация этого изображения с квадратом стороной 2  "
   ]
  },
  {
   "cell_type": "markdown",
   "metadata": {},
   "source": [
    "Черный треугольник - исходный\n",
    "\n",
    "Синий треугольник - фигура после применения операции:\n",
    "* слева - дилатация\n",
    "* справа - эррозия"
   ]
  },
  {
   "cell_type": "code",
   "execution_count": 111,
   "metadata": {},
   "outputs": [
    {
     "data": {
      "image/png": "[encoded data removed]",
      "text/plain": [
       "<IPython.core.display.Image object>"
      ]
     },
     "execution_count": 111,
     "metadata": {},
     "output_type": "execute_result"
    }
   ],
   "source": [
    "Image(filename=\"err_dill.drawio.png\")"
   ]
  },
  {
   "cell_type": "markdown",
   "metadata": {},
   "source": [
    "--------------------------------"
   ]
  },
  {
   "cell_type": "markdown",
   "metadata": {},
   "source": [
    "### 7\n",
    "Дано изображение шахматного поля с клетками размером nxn пикселей.  \n",
    "Какие параметры сдвига будут порождать матрицу смежности (GLCM) диагонального вида?"
   ]
  },
  {
   "cell_type": "markdown",
   "metadata": {},
   "source": [
    "Матрица значений яркости\n",
    "\n",
    "$$\n",
    "{}^n \\! \\overset{n}{\n",
    "    \\begin{pmatrix}\n",
    "        0 & 1 & 0 & \\dots & 1 \\\\\n",
    "        1 & 0 & 1 & \\dots & 0 \\\\\n",
    "        \\vdots & \\vdots & \\vdots & \\ddots & \\vdots \\\\\n",
    "        1 & 0 & 1 & \\dots & 0 \\\\\n",
    "    \\end{pmatrix}\n",
    "}\n",
    "$$\n",
    "\n",
    "Используется всего два уровня яркости, следовательно матрица GLCM имеет размер $2\\times2$\n",
    "\n",
    "$$\n",
    "\\begin{matrix}\n",
    "  &    0   &    1   \\\\\n",
    "0 & a_{00} & a_{01} \\\\\n",
    "1 & a_{10} & a_{11} \\\\\n",
    "\\end{matrix}\n",
    "$$\n",
    "\n",
    "Для построения данной матрицы необходимо опеределить соседний пиксель, который параметризуется направлением $\\varphi$ и расстоянием $d$.\n",
    "* $ \\varphi $ - угол ( $0^{\\circ}, 45^{\\circ}, 90^{\\circ}, 135^{\\circ}, 180^{\\circ}, 225^{\\circ}, 270^{\\circ}, 315^{\\circ} $)\n",
    "* $d$ - расстояние в пикселях\n",
    "\n",
    "Из-за повторяемости шаблона изображение стоит рассматривать $d$ как четное и нечетное, а углы  $0^{\\circ}$, $45^{\\circ}$.\n",
    "\n",
    "Матрицы для нечетного расстояния:\n",
    "$$\n",
    "\\varphi = 0 ^{\\circ} \\;\\begin{pmatrix} 0 & a_{01} \\\\ a_{10} & 0 \\\\ \\end{pmatrix};\\;\n",
    "\\varphi = 45^{\\circ} \\;\\begin{pmatrix} a_{00} & 0 \\\\ 0 & a_{11} \\\\ \\end{pmatrix};\\;\n",
    "$$\n",
    "\n",
    "Матрицы для четного расстояния:\n",
    "$$\n",
    "\\varphi = 0 ^{\\circ} \\;\\begin{pmatrix} a_{00} & 0 \\\\ 0 & a_{11} \\\\ \\end{pmatrix};\\;\n",
    "\\varphi = 45^{\\circ} \\;\\begin{pmatrix} a_{00} & 0 \\\\ 0 & a_{11} \\\\ \\end{pmatrix};\\;\n",
    "$$\n",
    "\n",
    "Т.е. в случае, когда $d$ - нечетное, а $\\varphi$ - вертикальное или горизонтальное, матрица смежности не является диагональной.\n",
    "\n",
    "Во всех остальных случаях матрица смежности -- диагональна.\n",
    "\n",
    "--------------------------------------------"
   ]
  },
  {
   "cell_type": "markdown",
   "metadata": {},
   "source": [
    "### 8\n",
    "К каким трансформациям (2D) изображения не инвариантен детектор Харриса?"
   ]
  },
  {
   "cell_type": "markdown",
   "metadata": {},
   "source": [
    "* Масштаб - при изменении масштаба изображениия, необходимо корректировать размер окна, поскольку линии,\n",
    "которые раньше образовавывали угол, теперь определяются детектором как сплошной контур.  \n",
    "\n",
    "* Наличие шума - алгоритм допускает небольшое количество ошибок. Однако большое количество шумов рядом с\n",
    "контуром приводит к значительному изменению собственных чисел матрицы окна, что изменяет значения детектора.  \n",
    "\n",
    "* Интенсивость - алгоритм частично инвариантен к изменению интенсивности, необходимо изменять значения порогов\n",
    "детектора.  \n",
    "\n",
    "--------------------------------"
   ]
  },
  {
   "cell_type": "markdown",
   "metadata": {},
   "source": [
    "### 9\n",
    "Дано бинарное изображение прямоугольника 4x2 пикселя  \n",
    "\n",
    "Посчитайте:\n",
    "1. Компактность\n",
    "2. Эксцентриситет\n",
    "3. Центр масс\n",
    "4. Ориентацию главной оси инерции\n",
    "5. Первые 4-ре момента Hu"
   ]
  },
  {
   "cell_type": "code",
   "execution_count": 112,
   "metadata": {},
   "outputs": [],
   "source": [
    "w = 4\n",
    "h = 2\n",
    "\n",
    "def m(p,q):\n",
    "    return sum([(x**p)*(y**q) for x in range(w) for y in range(h)])\n",
    "\n",
    "def cm(p, q):\n",
    "    return sum([((x-m(1,0)/m(0,0))**p)*((y-m(0,1)/m(0,0))**q) for x in range(w) for y in range(h)])\n",
    "\n",
    "def eta(p, q):\n",
    "    return cm(p,q)/np.power(cm(0,0), (p+q+2)/2)\n"
   ]
  },
  {
   "cell_type": "code",
   "execution_count": 113,
   "metadata": {},
   "outputs": [
    {
     "name": "stdout",
     "output_type": "stream",
     "text": [
      "Compactness: 18.0\n"
     ]
    }
   ],
   "source": [
    "p = (w + h)*2\n",
    "a = w*h\n",
    "print(\"Compactness:\", p**2/a)"
   ]
  },
  {
   "cell_type": "code",
   "execution_count": 114,
   "metadata": {},
   "outputs": [
    {
     "name": "stdout",
     "output_type": "stream",
     "text": [
      "Elongation: 5.0\n"
     ]
    }
   ],
   "source": [
    "m_20 = cm(2,0)\n",
    "m_02 = cm(0,2)\n",
    "m_11 = cm(1,1)\n",
    "\n",
    "print(\n",
    "    \"Elongation:\",\n",
    "    (m_20 + m_02 + np.sqrt((m_20 - m_02)**2 + 4*m_11**2))/\n",
    "    (m_20 + m_02 - np.sqrt((m_20 - m_02)**2 + 4*m_11**2))\n",
    ")"
   ]
  },
  {
   "cell_type": "code",
   "execution_count": 115,
   "metadata": {},
   "outputs": [
    {
     "name": "stdout",
     "output_type": "stream",
     "text": [
      "Center: (1.5, 0.5)\n"
     ]
    }
   ],
   "source": [
    "print(\n",
    "    \"Center:\",\n",
    "    (m(1,0)/m(0,0), m(0,1)/m(0,0))\n",
    ")"
   ]
  },
  {
   "cell_type": "code",
   "execution_count": 116,
   "metadata": {},
   "outputs": [
    {
     "name": "stdout",
     "output_type": "stream",
     "text": [
      "Principal inertia axis 0.0\n"
     ]
    }
   ],
   "source": [
    "print(\n",
    "    \"Principal inertia axis\",\n",
    "    0.5*np.arctan(2*m_11/(m_20-m_02))\n",
    ")"
   ]
  },
  {
   "cell_type": "code",
   "execution_count": 117,
   "metadata": {},
   "outputs": [
    {
     "name": "stdout",
     "output_type": "stream",
     "text": [
      "hu_1=0.1875\n",
      "hu_2=0.015625\n",
      "hu_3=0.0\n",
      "hu_4=0.0\n"
     ]
    }
   ],
   "source": [
    "hu_1 = eta(0,2) + eta(2,0)\n",
    "\n",
    "hu_2 = (eta(2,0) - eta(0,2))**2 + 4*eta(1,1)**2\n",
    "\n",
    "hu_3 = (eta(3,0) - 3*eta(1,2))**2 + (3*eta(2,1) - cm(0,3))**2\n",
    "\n",
    "hu_4 = (eta(3,0) - eta(1,2))**2 + (eta(2,1) + cm(0,3))**2\n",
    "\n",
    "print(f\"{hu_1=}\")\n",
    "print(f\"{hu_2=}\")\n",
    "print(f\"{hu_3=}\")\n",
    "print(f\"{hu_4=}\")\n"
   ]
  },
  {
   "cell_type": "markdown",
   "metadata": {},
   "source": [
    "-------------------------"
   ]
  },
  {
   "cell_type": "markdown",
   "metadata": {},
   "source": [
    "### 10\n",
    "Чему равна сумма коэффициентов wavelet-фильтров? Скалирующей функции?  \n",
    "Какая связь с квадратурными зеркальными фильтрами?"
   ]
  },
  {
   "cell_type": "markdown",
   "metadata": {},
   "source": [
    "Сумма коэффициентов wavelet-фильтров равна $1$\n",
    "\n",
    "Сумма коэффициентов скалирующей функции равна $\\sqrt{2}$\n",
    "\n",
    "<br>\n",
    "\n",
    "Дискретное вейлвлет-преобразование получают путем применения набора фильтров.\n",
    "\n",
    "Сначала сигнал пропускается через низко-частотный фильтр, в результате чего получаются коэффициенты аппроксимации.\n",
    "\n",
    "Затем сигнал пропускается через высоко-частотный фильтр, в резлуьтате чего получаются коэффициенты детализации.\n",
    "\n",
    "Данные НЧ и ВЧ фильтры связаны и называются квадратурными зеркальными фильтрами (QMF).\n",
    "\n",
    "-----------------------------------------"
   ]
  },
  {
   "cell_type": "markdown",
   "metadata": {},
   "source": [
    "### 11\n",
    "\n",
    "Есть камера с фокусным расстоянием 10 см, размером кадра 1920х1080, размер пикселя 10 микрон,  \n",
    "центр проекции находится на пикселе с координатами 950,550, угол наклона матрицы равен 0.  \n",
    "Запишите матрицу внутренней калибровки камеры (intrinsic parameters)"
   ]
  },
  {
   "cell_type": "markdown",
   "metadata": {},
   "source": [
    "Матрица внутренней калибровки имеет вид:\n",
    "\n",
    "$$\n",
    "\\begin{bmatrix}\n",
    "\\alpha_x & \\gamma & u_0 \\\\\n",
    "0 & \\alpha_y & v_0 \\\\\n",
    "0 & 0 & 1 \\\\\n",
    "\\end{bmatrix}\n",
    "$$\n",
    "\n",
    "$\\alpha = f/px$, где $f$ - фокусное расстояние, $px$ - размер пикселя.\n",
    "\n",
    "$\\alpha_x = 100/0.01 = 10000$\n",
    "\n",
    "$\\alpha_y = 100/0.01 = 10000$\n",
    "\n",
    "$\\gamma = \\alpha_x * tg(\\varphi)$, где $\\varphi$ - угол наклона матрицы\n",
    "\n",
    "$\\gamma = 10000 * tg(0) = 0$\n",
    "\n",
    "Тогда, матрица калибровки принимает вид:\n",
    "\n",
    "$$\n",
    "\\begin{bmatrix}\n",
    "10000 & 0 & 950 \\\\\n",
    "0 & 10000 & 550 \\\\\n",
    "0 & 0 & 1 \\\\\n",
    "\\end{bmatrix}\n",
    "$$\n",
    "\n",
    "-----------------------------"
   ]
  }
 ],
 "metadata": {
  "interpreter": {
   "hash": "916dbcbb3f70747c44a77c7bcd40155683ae19c65e1c03b4aa3499c5328201f1"
  },
  "kernelspec": {
   "display_name": "Python 3.8.10 64-bit",
   "language": "python",
   "name": "python3"
  },
  "language_info": {
   "codemirror_mode": {
    "name": "ipython",
    "version": 3
   },
   "file_extension": ".py",
   "mimetype": "text/x-python",
   "name": "python",
   "nbconvert_exporter": "python",
   "pygments_lexer": "ipython3",
   "version": "3.8.10"
  },
  "orig_nbformat": 4
 },
 "nbformat": 4,
 "nbformat_minor": 2
}
